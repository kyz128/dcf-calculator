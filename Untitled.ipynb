{
 "cells": [
  {
   "cell_type": "code",
   "execution_count": 1,
   "metadata": {},
   "outputs": [],
   "source": [
    "import requests\n",
    "import lxml\n",
    "from lxml import html\n",
    "import numpy as np \n",
    "import pandas as pd "
   ]
  },
  {
   "cell_type": "code",
   "execution_count": 5,
   "metadata": {},
   "outputs": [],
   "source": [
    "income_url= \"https://finance.yahoo.com/quote/AAPL/financials?p=AAPL\"\n",
    "balance_url= \"https://finance.yahoo.com/quote/AAPL/balance-sheet?p=AAPL\"\n",
    "cash_url= \"https://finance.yahoo.com/quote/AAPL/cash-flow?p=AAPL\""
   ]
  },
  {
   "cell_type": "code",
   "execution_count": 18,
   "metadata": {},
   "outputs": [],
   "source": [
    "def get_raw_table(url):\n",
    "\tpage= requests.get(url)\n",
    "\ttree= html.fromstring(page.content)\n",
    "\ttable= tree.xpath('//table')\n",
    "\ttstring= lxml.etree.tostring(table[0], method= 'html')\n",
    "\tdf= pd.read_html(tstring)[0]\n",
    "\treturn df "
   ]
  },
  {
   "cell_type": "code",
   "execution_count": 4,
   "metadata": {},
   "outputs": [],
   "source": [
    "def process_table(df):\n",
    "\tdf= df.set_index(0)\n",
    "\tdf= df.dropna()\n",
    "\tdf= df.transpose()\n",
    "\tdf[df.columns[0]] = pd.to_datetime(df[df.columns[0]])\n",
    "\tdf.set_axis(axis= 1, labels= df.columns)\n",
    "\tdf = df.replace('-', '0')\n",
    "\tnumeric_columns = list(df.columns)[1::]\n",
    "\tdf[numeric_columns] = df[numeric_columns].astype(np.float64)\n",
    "\treturn df "
   ]
  },
  {
   "cell_type": "code",
   "execution_count": 6,
   "metadata": {},
   "outputs": [],
   "source": [
    "income_df= get_raw_table(income_url)\n",
    "income_df= process_table(income_df)\n",
    "\n",
    "balance_df= get_raw_table(balance_url)\n",
    "balance_df= process_table(balance_df)\n",
    "\n",
    "cash_df= get_raw_table(cash_url)\n",
    "cash_df= process_table(cash_df)"
   ]
  },
  {
   "cell_type": "code",
   "execution_count": 7,
   "metadata": {},
   "outputs": [
    {
     "data": {
      "text/html": [
       "<div>\n",
       "<table border=\"1\" class=\"dataframe\">\n",
       "  <thead>\n",
       "    <tr style=\"text-align: right;\">\n",
       "      <th></th>\n",
       "      <th>Revenue</th>\n",
       "      <th>Total Revenue</th>\n",
       "      <th>Cost of Revenue</th>\n",
       "      <th>Gross Profit</th>\n",
       "      <th>Research Development</th>\n",
       "      <th>Selling General and Administrative</th>\n",
       "      <th>Non Recurring</th>\n",
       "      <th>Others</th>\n",
       "      <th>Total Operating Expenses</th>\n",
       "      <th>Operating Income or Loss</th>\n",
       "      <th>...</th>\n",
       "      <th>Income Tax Expense</th>\n",
       "      <th>Minority Interest</th>\n",
       "      <th>Net Income From Continuing Ops</th>\n",
       "      <th>Discontinued Operations</th>\n",
       "      <th>Extraordinary Items</th>\n",
       "      <th>Effect Of Accounting Changes</th>\n",
       "      <th>Other Items</th>\n",
       "      <th>Net Income</th>\n",
       "      <th>Preferred Stock And Other Adjustments</th>\n",
       "      <th>Net Income Applicable To Common Shares</th>\n",
       "    </tr>\n",
       "  </thead>\n",
       "  <tbody>\n",
       "    <tr>\n",
       "      <th>1</th>\n",
       "      <td>2018-09-29</td>\n",
       "      <td>265595000.0</td>\n",
       "      <td>163756000.0</td>\n",
       "      <td>101839000.0</td>\n",
       "      <td>14236000.0</td>\n",
       "      <td>16705000.0</td>\n",
       "      <td>0.0</td>\n",
       "      <td>0.0</td>\n",
       "      <td>194697000.0</td>\n",
       "      <td>70898000.0</td>\n",
       "      <td>...</td>\n",
       "      <td>13372000.0</td>\n",
       "      <td>0.0</td>\n",
       "      <td>59531000.0</td>\n",
       "      <td>0.0</td>\n",
       "      <td>0.0</td>\n",
       "      <td>0.0</td>\n",
       "      <td>0.0</td>\n",
       "      <td>59531000.0</td>\n",
       "      <td>0.0</td>\n",
       "      <td>59531000.0</td>\n",
       "    </tr>\n",
       "    <tr>\n",
       "      <th>2</th>\n",
       "      <td>2017-09-30</td>\n",
       "      <td>229234000.0</td>\n",
       "      <td>141048000.0</td>\n",
       "      <td>88186000.0</td>\n",
       "      <td>11581000.0</td>\n",
       "      <td>15261000.0</td>\n",
       "      <td>0.0</td>\n",
       "      <td>0.0</td>\n",
       "      <td>167890000.0</td>\n",
       "      <td>61344000.0</td>\n",
       "      <td>...</td>\n",
       "      <td>15738000.0</td>\n",
       "      <td>0.0</td>\n",
       "      <td>48351000.0</td>\n",
       "      <td>0.0</td>\n",
       "      <td>0.0</td>\n",
       "      <td>0.0</td>\n",
       "      <td>0.0</td>\n",
       "      <td>48351000.0</td>\n",
       "      <td>0.0</td>\n",
       "      <td>48351000.0</td>\n",
       "    </tr>\n",
       "  </tbody>\n",
       "</table>\n",
       "<p>2 rows × 24 columns</p>\n",
       "</div>"
      ],
      "text/plain": [
       "0    Revenue  Total Revenue  Cost of Revenue  Gross Profit  \\\n",
       "1 2018-09-29    265595000.0      163756000.0   101839000.0   \n",
       "2 2017-09-30    229234000.0      141048000.0    88186000.0   \n",
       "\n",
       "0  Research Development  Selling General and Administrative  Non Recurring  \\\n",
       "1            14236000.0                          16705000.0            0.0   \n",
       "2            11581000.0                          15261000.0            0.0   \n",
       "\n",
       "0  Others  Total Operating Expenses  Operating Income or Loss  \\\n",
       "1     0.0               194697000.0                70898000.0   \n",
       "2     0.0               167890000.0                61344000.0   \n",
       "\n",
       "0                   ...                    Income Tax Expense  \\\n",
       "1                   ...                            13372000.0   \n",
       "2                   ...                            15738000.0   \n",
       "\n",
       "0  Minority Interest  Net Income From Continuing Ops  Discontinued Operations  \\\n",
       "1                0.0                      59531000.0                      0.0   \n",
       "2                0.0                      48351000.0                      0.0   \n",
       "\n",
       "0  Extraordinary Items  Effect Of Accounting Changes  Other Items  Net Income  \\\n",
       "1                  0.0                           0.0          0.0  59531000.0   \n",
       "2                  0.0                           0.0          0.0  48351000.0   \n",
       "\n",
       "0  Preferred Stock And Other Adjustments  \\\n",
       "1                                    0.0   \n",
       "2                                    0.0   \n",
       "\n",
       "0  Net Income Applicable To Common Shares  \n",
       "1                              59531000.0  \n",
       "2                              48351000.0  \n",
       "\n",
       "[2 rows x 24 columns]"
      ]
     },
     "execution_count": 7,
     "metadata": {},
     "output_type": "execute_result"
    }
   ],
   "source": [
    "income_df.head(2)"
   ]
  },
  {
   "cell_type": "code",
   "execution_count": 54,
   "metadata": {},
   "outputs": [],
   "source": [
    "def calculate_owc(balance_df):\n",
    "\tcurr_assets= balance_df.loc[:, \"Total Current Assets\"]\n",
    "\tcurr_liab= balance_df.loc[:, \"Total Current Liabilities\"]\n",
    "\tcurr_cash= balance_df.loc[:, \"Cash And Cash Equivalents\"]\n",
    "\tcurr_sdebt= balance_df.loc[:, \"Short/Current Long Term Debt\"]\n",
    "\tres= curr_assets - curr_liab - curr_cash + curr_sdebt\n",
    "\treturn res"
   ]
  },
  {
   "cell_type": "code",
   "execution_count": 58,
   "metadata": {},
   "outputs": [],
   "source": [
    "def get_other_fcf_comp(income_df, cash_df):\n",
    "\tebit= income_df.loc[:, \"Earnings Before Interest and Taxes\"]\n",
    "\tincome_expense= -1* income_df.loc[:, \"Income Tax Expense\"]\n",
    "\tbefore_tax_income= income_df.loc[:, \"Income Before Tax\"]\n",
    "\ttax_rate= income_expense/before_tax_income\n",
    "\tdepreciation= cash_df.loc[:, \"Depreciation\"]\n",
    "\tcapex= cash_df.loc[:, \"Capital Expenditure\"]\n",
    "\treturn ebit, tax_rate, depreciation, capex"
   ]
  },
  {
   "cell_type": "code",
   "execution_count": 59,
   "metadata": {},
   "outputs": [],
   "source": [
    "def calculate_fcf(income_df, cash_df, balance_df):\n",
    "    owc= calculate_owc(balance_df)\n",
    "    ebit, tax_rate, depreciation, capex= get_other_fcf_comp(income_df, cash_df)\n",
    "    #note capex is already negative\n",
    "    return ebit*(1-tax_rate) + depreciation + capex - owc"
   ]
  },
  {
   "cell_type": "code",
   "execution_count": 60,
   "metadata": {},
   "outputs": [
    {
     "data": {
      "text/plain": [
       "1    8.414824e+07\n",
       "2    6.007592e+07\n",
       "3    6.225649e+07\n",
       "4    9.986117e+07\n",
       "dtype: float64"
      ]
     },
     "execution_count": 60,
     "metadata": {},
     "output_type": "execute_result"
    }
   ],
   "source": [
    "calculate_fcf(income_df, cash_df, balance_df)"
   ]
  },
  {
   "cell_type": "code",
   "execution_count": 61,
   "metadata": {},
   "outputs": [
    {
     "data": {
      "text/plain": [
       "1    -2656000.0\n",
       "2    14038000.0\n",
       "3    10879000.0\n",
       "4    -9839000.0\n",
       "dtype: float64"
      ]
     },
     "execution_count": 61,
     "metadata": {},
     "output_type": "execute_result"
    }
   ],
   "source": [
    "calculate_owc(balance_df)"
   ]
  },
  {
   "cell_type": "code",
   "execution_count": null,
   "metadata": {},
   "outputs": [],
   "source": []
  }
 ],
 "metadata": {
  "kernelspec": {
   "display_name": "Python 3",
   "language": "python",
   "name": "python3"
  },
  "language_info": {
   "codemirror_mode": {
    "name": "ipython",
    "version": 3
   },
   "file_extension": ".py",
   "mimetype": "text/x-python",
   "name": "python",
   "nbconvert_exporter": "python",
   "pygments_lexer": "ipython3",
   "version": "3.5.2"
  }
 },
 "nbformat": 4,
 "nbformat_minor": 2
}
